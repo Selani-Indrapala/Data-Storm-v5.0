{
 "cells": [
  {
   "cell_type": "code",
   "execution_count": 1,
   "id": "4e2cea76",
   "metadata": {
    "execution": {
     "iopub.execute_input": "2024-05-16T13:02:03.810920Z",
     "iopub.status.busy": "2024-05-16T13:02:03.810520Z",
     "iopub.status.idle": "2024-05-16T13:02:24.530309Z",
     "shell.execute_reply": "2024-05-16T13:02:24.528584Z"
    },
    "papermill": {
     "duration": 20.732387,
     "end_time": "2024-05-16T13:02:24.533648",
     "exception": false,
     "start_time": "2024-05-16T13:02:03.801261",
     "status": "completed"
    },
    "tags": []
   },
   "outputs": [
    {
     "name": "stderr",
     "output_type": "stream",
     "text": [
      "2024-05-16 13:02:10.392512: E external/local_xla/xla/stream_executor/cuda/cuda_dnn.cc:9261] Unable to register cuDNN factory: Attempting to register factory for plugin cuDNN when one has already been registered\n",
      "2024-05-16 13:02:10.392701: E external/local_xla/xla/stream_executor/cuda/cuda_fft.cc:607] Unable to register cuFFT factory: Attempting to register factory for plugin cuFFT when one has already been registered\n",
      "2024-05-16 13:02:10.612596: E external/local_xla/xla/stream_executor/cuda/cuda_blas.cc:1515] Unable to register cuBLAS factory: Attempting to register factory for plugin cuBLAS when one has already been registered\n"
     ]
    }
   ],
   "source": [
    "import warnings\n",
    "import numpy as np\n",
    "import pandas as pd\n",
    "import plotly.graph_objs as go\n",
    "import matplotlib.pyplot as plt\n",
    "from plotly.offline import init_notebook_mode, iplot\n",
    "import plotly.express as px\n",
    "from sklearn.model_selection import train_test_split\n",
    "from sklearn.preprocessing import OneHotEncoder\n",
    "from keras.models import Sequential\n",
    "from keras.layers import Dense"
   ]
  },
  {
   "cell_type": "code",
   "execution_count": 2,
   "id": "a4156a2c",
   "metadata": {
    "execution": {
     "iopub.execute_input": "2024-05-16T13:02:24.552473Z",
     "iopub.status.busy": "2024-05-16T13:02:24.551439Z",
     "iopub.status.idle": "2024-05-16T13:02:24.723911Z",
     "shell.execute_reply": "2024-05-16T13:02:24.722559Z"
    },
    "papermill": {
     "duration": 0.185983,
     "end_time": "2024-05-16T13:02:24.727180",
     "exception": false,
     "start_time": "2024-05-16T13:02:24.541197",
     "status": "completed"
    },
    "tags": []
   },
   "outputs": [
    {
     "data": {
      "text/html": [
       "<div>\n",
       "<style scoped>\n",
       "    .dataframe tbody tr th:only-of-type {\n",
       "        vertical-align: middle;\n",
       "    }\n",
       "\n",
       "    .dataframe tbody tr th {\n",
       "        vertical-align: top;\n",
       "    }\n",
       "\n",
       "    .dataframe thead th {\n",
       "        text-align: right;\n",
       "    }\n",
       "</style>\n",
       "<table border=\"1\" class=\"dataframe\">\n",
       "  <thead>\n",
       "    <tr style=\"text-align: right;\">\n",
       "      <th></th>\n",
       "      <th>Customer_ID</th>\n",
       "      <th>outlet_city</th>\n",
       "      <th>luxury_sales</th>\n",
       "      <th>fresh_sales</th>\n",
       "      <th>dry_sales</th>\n",
       "    </tr>\n",
       "  </thead>\n",
       "  <tbody>\n",
       "    <tr>\n",
       "      <th>0</th>\n",
       "      <td>33574</td>\n",
       "      <td>batticaloa</td>\n",
       "      <td>2686.5</td>\n",
       "      <td>3582</td>\n",
       "      <td>12537</td>\n",
       "    </tr>\n",
       "    <tr>\n",
       "      <th>1</th>\n",
       "      <td>10089</td>\n",
       "      <td>batticaloa</td>\n",
       "      <td>1717.56</td>\n",
       "      <td>2576.34</td>\n",
       "      <td>9446.58</td>\n",
       "    </tr>\n",
       "    <tr>\n",
       "      <th>2</th>\n",
       "      <td>38329</td>\n",
       "      <td>batticaloa</td>\n",
       "      <td>854.04</td>\n",
       "      <td>1242.24</td>\n",
       "      <td>5201.88</td>\n",
       "    </tr>\n",
       "    <tr>\n",
       "      <th>3</th>\n",
       "      <td>11376</td>\n",
       "      <td>batticaloa</td>\n",
       "      <td>1638.12</td>\n",
       "      <td>2320.67</td>\n",
       "      <td>9282.68</td>\n",
       "    </tr>\n",
       "    <tr>\n",
       "      <th>4</th>\n",
       "      <td>12410</td>\n",
       "      <td>batticaloa</td>\n",
       "      <td>1039.09</td>\n",
       "      <td>1518.67</td>\n",
       "      <td>5435.24</td>\n",
       "    </tr>\n",
       "  </tbody>\n",
       "</table>\n",
       "</div>"
      ],
      "text/plain": [
       "   Customer_ID outlet_city luxury_sales fresh_sales dry_sales\n",
       "0        33574  batticaloa       2686.5        3582     12537\n",
       "1        10089  batticaloa      1717.56     2576.34   9446.58\n",
       "2        38329  batticaloa       854.04     1242.24   5201.88\n",
       "3        11376  batticaloa      1638.12     2320.67   9282.68\n",
       "4        12410  batticaloa      1039.09     1518.67   5435.24"
      ]
     },
     "execution_count": 2,
     "metadata": {},
     "output_type": "execute_result"
    }
   ],
   "source": [
    "test_df = pd.read_csv(\"/kaggle/input/data-storm-5-0/test_kaggle.csv\")\n",
    "test_df.head()"
   ]
  },
  {
   "cell_type": "code",
   "execution_count": 3,
   "id": "896c21e3",
   "metadata": {
    "execution": {
     "iopub.execute_input": "2024-05-16T13:02:24.746259Z",
     "iopub.status.busy": "2024-05-16T13:02:24.745840Z",
     "iopub.status.idle": "2024-05-16T13:02:24.757405Z",
     "shell.execute_reply": "2024-05-16T13:02:24.755172Z"
    },
    "papermill": {
     "duration": 0.026249,
     "end_time": "2024-05-16T13:02:24.761438",
     "exception": false,
     "start_time": "2024-05-16T13:02:24.735189",
     "status": "completed"
    },
    "tags": []
   },
   "outputs": [
    {
     "data": {
      "text/plain": [
       "Customer_ID      int64\n",
       "outlet_city     object\n",
       "luxury_sales    object\n",
       "fresh_sales     object\n",
       "dry_sales       object\n",
       "dtype: object"
      ]
     },
     "execution_count": 3,
     "metadata": {},
     "output_type": "execute_result"
    }
   ],
   "source": [
    "test_df.dtypes"
   ]
  },
  {
   "cell_type": "code",
   "execution_count": 4,
   "id": "bacab509",
   "metadata": {
    "execution": {
     "iopub.execute_input": "2024-05-16T13:02:24.782364Z",
     "iopub.status.busy": "2024-05-16T13:02:24.781496Z",
     "iopub.status.idle": "2024-05-16T13:02:24.828809Z",
     "shell.execute_reply": "2024-05-16T13:02:24.827362Z"
    },
    "papermill": {
     "duration": 0.060251,
     "end_time": "2024-05-16T13:02:24.831760",
     "exception": false,
     "start_time": "2024-05-16T13:02:24.771509",
     "status": "completed"
    },
    "tags": []
   },
   "outputs": [
    {
     "name": "stdout",
     "output_type": "stream",
     "text": [
      " Percentage of NaN values in luxury_sales column:0.0049080959041939674\n"
     ]
    }
   ],
   "source": [
    "numeric_column = pd.to_numeric(test_df['luxury_sales'], errors='coerce')\n",
    "non_float_items = test_df[pd.isna(numeric_column)]\n",
    "print(\" Percentage of NaN values in luxury_sales column:\"+ str((non_float_items.shape[0]/test_df.shape[0])*100))"
   ]
  },
  {
   "cell_type": "code",
   "execution_count": 5,
   "id": "ecc6804c",
   "metadata": {
    "execution": {
     "iopub.execute_input": "2024-05-16T13:02:24.853773Z",
     "iopub.status.busy": "2024-05-16T13:02:24.851340Z",
     "iopub.status.idle": "2024-05-16T13:02:24.917999Z",
     "shell.execute_reply": "2024-05-16T13:02:24.916293Z"
    },
    "papermill": {
     "duration": 0.080125,
     "end_time": "2024-05-16T13:02:24.921080",
     "exception": false,
     "start_time": "2024-05-16T13:02:24.840955",
     "status": "completed"
    },
    "tags": []
   },
   "outputs": [
    {
     "data": {
      "text/html": [
       "<div>\n",
       "<style scoped>\n",
       "    .dataframe tbody tr th:only-of-type {\n",
       "        vertical-align: middle;\n",
       "    }\n",
       "\n",
       "    .dataframe tbody tr th {\n",
       "        vertical-align: top;\n",
       "    }\n",
       "\n",
       "    .dataframe thead th {\n",
       "        text-align: right;\n",
       "    }\n",
       "</style>\n",
       "<table border=\"1\" class=\"dataframe\">\n",
       "  <thead>\n",
       "    <tr style=\"text-align: right;\">\n",
       "      <th></th>\n",
       "      <th>Customer_ID</th>\n",
       "      <th>outlet_city</th>\n",
       "      <th>luxury_sales</th>\n",
       "      <th>fresh_sales</th>\n",
       "      <th>dry_sales</th>\n",
       "    </tr>\n",
       "  </thead>\n",
       "  <tbody>\n",
       "    <tr>\n",
       "      <th>6</th>\n",
       "      <td>10364</td>\n",
       "      <td>batticaloa</td>\n",
       "      <td>Seven Hundread and sixty Ruppees</td>\n",
       "      <td>914.4</td>\n",
       "      <td>3352.8</td>\n",
       "    </tr>\n",
       "    <tr>\n",
       "      <th>6299</th>\n",
       "      <td>4059</td>\n",
       "      <td>Anuradhapura</td>\n",
       "      <td>Eight Hundread and fifteen ruppes</td>\n",
       "      <td>1548.69</td>\n",
       "      <td>5705.7</td>\n",
       "    </tr>\n",
       "  </tbody>\n",
       "</table>\n",
       "</div>"
      ],
      "text/plain": [
       "      Customer_ID   outlet_city                       luxury_sales  \\\n",
       "6           10364    batticaloa   Seven Hundread and sixty Ruppees   \n",
       "6299         4059  Anuradhapura  Eight Hundread and fifteen ruppes   \n",
       "\n",
       "     fresh_sales dry_sales  \n",
       "6          914.4    3352.8  \n",
       "6299     1548.69    5705.7  "
      ]
     },
     "execution_count": 5,
     "metadata": {},
     "output_type": "execute_result"
    }
   ],
   "source": [
    "test_df.dropna(subset=['luxury_sales'], inplace=True)\n",
    "numeric_column = pd.to_numeric(test_df['luxury_sales'], errors='coerce')\n",
    "non_float_items = test_df[pd.isna(numeric_column)]\n",
    "non_float_items"
   ]
  },
  {
   "cell_type": "code",
   "execution_count": 6,
   "id": "b5bc4e4c",
   "metadata": {
    "execution": {
     "iopub.execute_input": "2024-05-16T13:02:24.942863Z",
     "iopub.status.busy": "2024-05-16T13:02:24.942141Z",
     "iopub.status.idle": "2024-05-16T13:02:24.951893Z",
     "shell.execute_reply": "2024-05-16T13:02:24.950214Z"
    },
    "papermill": {
     "duration": 0.0248,
     "end_time": "2024-05-16T13:02:24.955409",
     "exception": false,
     "start_time": "2024-05-16T13:02:24.930609",
     "status": "completed"
    },
    "tags": []
   },
   "outputs": [],
   "source": [
    "test_df.loc[6, 'luxury_sales'] = 760\n",
    "test_df.loc[6299, 'luxury_sales'] = 815"
   ]
  },
  {
   "cell_type": "code",
   "execution_count": 7,
   "id": "19c45168",
   "metadata": {
    "execution": {
     "iopub.execute_input": "2024-05-16T13:02:24.975373Z",
     "iopub.status.busy": "2024-05-16T13:02:24.974941Z",
     "iopub.status.idle": "2024-05-16T13:02:25.017228Z",
     "shell.execute_reply": "2024-05-16T13:02:25.015825Z"
    },
    "papermill": {
     "duration": 0.056512,
     "end_time": "2024-05-16T13:02:25.020161",
     "exception": false,
     "start_time": "2024-05-16T13:02:24.963649",
     "status": "completed"
    },
    "tags": []
   },
   "outputs": [
    {
     "data": {
      "text/plain": [
       "Customer_ID       int64\n",
       "outlet_city      object\n",
       "luxury_sales    float64\n",
       "fresh_sales      object\n",
       "dry_sales        object\n",
       "dtype: object"
      ]
     },
     "execution_count": 7,
     "metadata": {},
     "output_type": "execute_result"
    }
   ],
   "source": [
    "test_df['luxury_sales'] = pd.to_numeric(test_df['luxury_sales'], errors='coerce')\n",
    "test_df.dtypes"
   ]
  },
  {
   "cell_type": "code",
   "execution_count": 8,
   "id": "9cc6d068",
   "metadata": {
    "execution": {
     "iopub.execute_input": "2024-05-16T13:02:25.039107Z",
     "iopub.status.busy": "2024-05-16T13:02:25.038398Z",
     "iopub.status.idle": "2024-05-16T13:02:25.083298Z",
     "shell.execute_reply": "2024-05-16T13:02:25.081388Z"
    },
    "papermill": {
     "duration": 0.05921,
     "end_time": "2024-05-16T13:02:25.087986",
     "exception": false,
     "start_time": "2024-05-16T13:02:25.028776",
     "status": "completed"
    },
    "tags": []
   },
   "outputs": [
    {
     "name": "stdout",
     "output_type": "stream",
     "text": [
      " Percentage of NaN values in fresh_sales column:0.0024540479520969837\n"
     ]
    }
   ],
   "source": [
    "numeric_column = pd.to_numeric(test_df['fresh_sales'], errors='coerce')\n",
    "non_float_items = test_df[pd.isna(numeric_column)]\n",
    "print(\" Percentage of NaN values in fresh_sales column:\"+ str((non_float_items.shape[0]/test_df.shape[0])*100))"
   ]
  },
  {
   "cell_type": "code",
   "execution_count": 9,
   "id": "cfc4c79b",
   "metadata": {
    "execution": {
     "iopub.execute_input": "2024-05-16T13:02:25.113760Z",
     "iopub.status.busy": "2024-05-16T13:02:25.113290Z",
     "iopub.status.idle": "2024-05-16T13:02:25.179835Z",
     "shell.execute_reply": "2024-05-16T13:02:25.177904Z"
    },
    "papermill": {
     "duration": 0.080644,
     "end_time": "2024-05-16T13:02:25.183148",
     "exception": false,
     "start_time": "2024-05-16T13:02:25.102504",
     "status": "completed"
    },
    "tags": []
   },
   "outputs": [
    {
     "data": {
      "text/html": [
       "<div>\n",
       "<style scoped>\n",
       "    .dataframe tbody tr th:only-of-type {\n",
       "        vertical-align: middle;\n",
       "    }\n",
       "\n",
       "    .dataframe tbody tr th {\n",
       "        vertical-align: top;\n",
       "    }\n",
       "\n",
       "    .dataframe thead th {\n",
       "        text-align: right;\n",
       "    }\n",
       "</style>\n",
       "<table border=\"1\" class=\"dataframe\">\n",
       "  <thead>\n",
       "    <tr style=\"text-align: right;\">\n",
       "      <th></th>\n",
       "      <th>Customer_ID</th>\n",
       "      <th>outlet_city</th>\n",
       "      <th>luxury_sales</th>\n",
       "      <th>fresh_sales</th>\n",
       "      <th>dry_sales</th>\n",
       "    </tr>\n",
       "  </thead>\n",
       "  <tbody>\n",
       "    <tr>\n",
       "      <th>13949</th>\n",
       "      <td>28662</td>\n",
       "      <td>Jaffna</td>\n",
       "      <td>2195.84</td>\n",
       "      <td>Nine thousand ruppess</td>\n",
       "      <td>1509.64</td>\n",
       "    </tr>\n",
       "  </tbody>\n",
       "</table>\n",
       "</div>"
      ],
      "text/plain": [
       "       Customer_ID outlet_city  luxury_sales            fresh_sales dry_sales\n",
       "13949        28662      Jaffna       2195.84  Nine thousand ruppess   1509.64"
      ]
     },
     "execution_count": 9,
     "metadata": {},
     "output_type": "execute_result"
    }
   ],
   "source": [
    "test_df.dropna(subset=['fresh_sales'], inplace=True)\n",
    "numeric_column = pd.to_numeric(test_df['fresh_sales'], errors='coerce')\n",
    "non_float_items = test_df[pd.isna(numeric_column)]\n",
    "non_float_items"
   ]
  },
  {
   "cell_type": "code",
   "execution_count": 10,
   "id": "58d7f280",
   "metadata": {
    "execution": {
     "iopub.execute_input": "2024-05-16T13:02:25.204842Z",
     "iopub.status.busy": "2024-05-16T13:02:25.204341Z",
     "iopub.status.idle": "2024-05-16T13:02:25.213635Z",
     "shell.execute_reply": "2024-05-16T13:02:25.210941Z"
    },
    "papermill": {
     "duration": 0.023939,
     "end_time": "2024-05-16T13:02:25.217787",
     "exception": false,
     "start_time": "2024-05-16T13:02:25.193848",
     "status": "completed"
    },
    "tags": []
   },
   "outputs": [],
   "source": [
    "test_df.loc[13949, 'fresh_sales'] = 9000"
   ]
  },
  {
   "cell_type": "code",
   "execution_count": 11,
   "id": "01fa23c6",
   "metadata": {
    "execution": {
     "iopub.execute_input": "2024-05-16T13:02:25.242075Z",
     "iopub.status.busy": "2024-05-16T13:02:25.240945Z",
     "iopub.status.idle": "2024-05-16T13:02:25.286120Z",
     "shell.execute_reply": "2024-05-16T13:02:25.284639Z"
    },
    "papermill": {
     "duration": 0.061766,
     "end_time": "2024-05-16T13:02:25.289588",
     "exception": false,
     "start_time": "2024-05-16T13:02:25.227822",
     "status": "completed"
    },
    "tags": []
   },
   "outputs": [
    {
     "data": {
      "text/plain": [
       "Customer_ID       int64\n",
       "outlet_city      object\n",
       "luxury_sales    float64\n",
       "fresh_sales     float64\n",
       "dry_sales        object\n",
       "dtype: object"
      ]
     },
     "execution_count": 11,
     "metadata": {},
     "output_type": "execute_result"
    }
   ],
   "source": [
    "test_df['fresh_sales'] = pd.to_numeric(test_df['fresh_sales'], errors='coerce')\n",
    "test_df.dtypes"
   ]
  },
  {
   "cell_type": "code",
   "execution_count": 12,
   "id": "a5d900aa",
   "metadata": {
    "execution": {
     "iopub.execute_input": "2024-05-16T13:02:25.312045Z",
     "iopub.status.busy": "2024-05-16T13:02:25.311504Z",
     "iopub.status.idle": "2024-05-16T13:02:25.356075Z",
     "shell.execute_reply": "2024-05-16T13:02:25.353010Z"
    },
    "papermill": {
     "duration": 0.060316,
     "end_time": "2024-05-16T13:02:25.359898",
     "exception": false,
     "start_time": "2024-05-16T13:02:25.299582",
     "status": "completed"
    },
    "tags": []
   },
   "outputs": [
    {
     "name": "stdout",
     "output_type": "stream",
     "text": [
      " Percentage of NaN values in dry_sales column:0.0024540479520969837\n"
     ]
    }
   ],
   "source": [
    "numeric_column = pd.to_numeric(test_df['dry_sales'], errors='coerce')\n",
    "non_float_items = test_df[pd.isna(numeric_column)]\n",
    "print(\" Percentage of NaN values in dry_sales column:\"+ str((non_float_items.shape[0]/test_df.shape[0])*100))"
   ]
  },
  {
   "cell_type": "code",
   "execution_count": 13,
   "id": "a991054e",
   "metadata": {
    "execution": {
     "iopub.execute_input": "2024-05-16T13:02:25.383772Z",
     "iopub.status.busy": "2024-05-16T13:02:25.382366Z",
     "iopub.status.idle": "2024-05-16T13:02:25.445489Z",
     "shell.execute_reply": "2024-05-16T13:02:25.444301Z"
    },
    "papermill": {
     "duration": 0.079093,
     "end_time": "2024-05-16T13:02:25.449093",
     "exception": false,
     "start_time": "2024-05-16T13:02:25.370000",
     "status": "completed"
    },
    "tags": []
   },
   "outputs": [
    {
     "data": {
      "text/html": [
       "<div>\n",
       "<style scoped>\n",
       "    .dataframe tbody tr th:only-of-type {\n",
       "        vertical-align: middle;\n",
       "    }\n",
       "\n",
       "    .dataframe tbody tr th {\n",
       "        vertical-align: top;\n",
       "    }\n",
       "\n",
       "    .dataframe thead th {\n",
       "        text-align: right;\n",
       "    }\n",
       "</style>\n",
       "<table border=\"1\" class=\"dataframe\">\n",
       "  <thead>\n",
       "    <tr style=\"text-align: right;\">\n",
       "      <th></th>\n",
       "      <th>Customer_ID</th>\n",
       "      <th>outlet_city</th>\n",
       "      <th>luxury_sales</th>\n",
       "      <th>fresh_sales</th>\n",
       "      <th>dry_sales</th>\n",
       "    </tr>\n",
       "  </thead>\n",
       "  <tbody>\n",
       "    <tr>\n",
       "      <th>40746</th>\n",
       "      <td>28664</td>\n",
       "      <td>Wattala</td>\n",
       "      <td>3838.6</td>\n",
       "      <td>3951.5</td>\n",
       "      <td>Three Thousand seven hundread ruppees</td>\n",
       "    </tr>\n",
       "  </tbody>\n",
       "</table>\n",
       "</div>"
      ],
      "text/plain": [
       "       Customer_ID outlet_city  luxury_sales  fresh_sales  \\\n",
       "40746        28664     Wattala        3838.6       3951.5   \n",
       "\n",
       "                                   dry_sales  \n",
       "40746  Three Thousand seven hundread ruppees  "
      ]
     },
     "execution_count": 13,
     "metadata": {},
     "output_type": "execute_result"
    }
   ],
   "source": [
    "test_df.dropna(subset=['dry_sales'], inplace=True)\n",
    "numeric_column = pd.to_numeric(test_df['dry_sales'], errors='coerce')\n",
    "non_float_items = test_df[pd.isna(numeric_column)]\n",
    "non_float_items"
   ]
  },
  {
   "cell_type": "code",
   "execution_count": 14,
   "id": "ce4e02d0",
   "metadata": {
    "execution": {
     "iopub.execute_input": "2024-05-16T13:02:25.472873Z",
     "iopub.status.busy": "2024-05-16T13:02:25.472416Z",
     "iopub.status.idle": "2024-05-16T13:02:25.479676Z",
     "shell.execute_reply": "2024-05-16T13:02:25.478045Z"
    },
    "papermill": {
     "duration": 0.023004,
     "end_time": "2024-05-16T13:02:25.483511",
     "exception": false,
     "start_time": "2024-05-16T13:02:25.460507",
     "status": "completed"
    },
    "tags": []
   },
   "outputs": [],
   "source": [
    "test_df.loc[40746, 'dry_sales'] = 3700"
   ]
  },
  {
   "cell_type": "code",
   "execution_count": 15,
   "id": "309ec5d9",
   "metadata": {
    "execution": {
     "iopub.execute_input": "2024-05-16T13:02:25.507507Z",
     "iopub.status.busy": "2024-05-16T13:02:25.507071Z",
     "iopub.status.idle": "2024-05-16T13:02:25.547124Z",
     "shell.execute_reply": "2024-05-16T13:02:25.545567Z"
    },
    "papermill": {
     "duration": 0.055702,
     "end_time": "2024-05-16T13:02:25.550246",
     "exception": false,
     "start_time": "2024-05-16T13:02:25.494544",
     "status": "completed"
    },
    "tags": []
   },
   "outputs": [
    {
     "data": {
      "text/plain": [
       "Customer_ID       int64\n",
       "outlet_city      object\n",
       "luxury_sales    float64\n",
       "fresh_sales     float64\n",
       "dry_sales       float64\n",
       "dtype: object"
      ]
     },
     "execution_count": 15,
     "metadata": {},
     "output_type": "execute_result"
    }
   ],
   "source": [
    "test_df['dry_sales'] = pd.to_numeric(test_df['dry_sales'], errors='coerce')\n",
    "test_df.dtypes"
   ]
  },
  {
   "cell_type": "code",
   "execution_count": 16,
   "id": "eea36bf1",
   "metadata": {
    "execution": {
     "iopub.execute_input": "2024-05-16T13:02:25.572673Z",
     "iopub.status.busy": "2024-05-16T13:02:25.572218Z",
     "iopub.status.idle": "2024-05-16T13:02:25.587527Z",
     "shell.execute_reply": "2024-05-16T13:02:25.586408Z"
    },
    "papermill": {
     "duration": 0.030005,
     "end_time": "2024-05-16T13:02:25.590528",
     "exception": false,
     "start_time": "2024-05-16T13:02:25.560523",
     "status": "completed"
    },
    "tags": []
   },
   "outputs": [
    {
     "data": {
      "text/plain": [
       "array(['batticaloa', 'Batticaloa', 'Colombo', 'Dehiwala-Mount Lavinia',\n",
       "       'Anuradhapura', 'Galle', 'Gampaha', 'Homagama', 'Jaffna',\n",
       "       'Kaduwela', 'Kalmunai', 'kalmunai', 'Kandy', 'Katunayake',\n",
       "       'Kelaniya', 'Madawachiya', 'Kotte', 'Moratuwa', 'MoraTuwa',\n",
       "       'Negombo', 'Nuwara Eliya', 'Panadura', 'Peliyagoda', 'PeliyagodA',\n",
       "       'Trincomale', 'Trincomalee', 'Wattala'], dtype=object)"
      ]
     },
     "execution_count": 16,
     "metadata": {},
     "output_type": "execute_result"
    }
   ],
   "source": [
    "unique_values = test_df['outlet_city'].unique()\n",
    "unique_values"
   ]
  },
  {
   "cell_type": "code",
   "execution_count": 17,
   "id": "edf5d388",
   "metadata": {
    "execution": {
     "iopub.execute_input": "2024-05-16T13:02:25.615047Z",
     "iopub.status.busy": "2024-05-16T13:02:25.614553Z",
     "iopub.status.idle": "2024-05-16T13:02:25.667592Z",
     "shell.execute_reply": "2024-05-16T13:02:25.665969Z"
    },
    "papermill": {
     "duration": 0.069794,
     "end_time": "2024-05-16T13:02:25.671240",
     "exception": false,
     "start_time": "2024-05-16T13:02:25.601446",
     "status": "completed"
    },
    "tags": []
   },
   "outputs": [],
   "source": [
    "test_df['outlet_city'] = test_df['outlet_city'].replace('MoraTuwa', 'Moratuwa')\n",
    "test_df['outlet_city'] = test_df['outlet_city'].replace('PeliyagodA', 'Peliyagoda')\n",
    "test_df['outlet_city'] = test_df['outlet_city'].replace('batticaloa', 'Batticaloa')\n",
    "test_df['outlet_city'] = test_df['outlet_city'].replace('kalmunai', 'Kalmunai')\n",
    "test_df['outlet_city'] = test_df['outlet_city'].replace('Trincomale', 'Trincomalee')"
   ]
  },
  {
   "cell_type": "code",
   "execution_count": 18,
   "id": "08fbaf39",
   "metadata": {
    "execution": {
     "iopub.execute_input": "2024-05-16T13:02:25.694368Z",
     "iopub.status.busy": "2024-05-16T13:02:25.693936Z",
     "iopub.status.idle": "2024-05-16T13:02:25.709130Z",
     "shell.execute_reply": "2024-05-16T13:02:25.707336Z"
    },
    "papermill": {
     "duration": 0.030749,
     "end_time": "2024-05-16T13:02:25.712371",
     "exception": false,
     "start_time": "2024-05-16T13:02:25.681622",
     "status": "completed"
    },
    "tags": []
   },
   "outputs": [
    {
     "data": {
      "text/plain": [
       "array(['Batticaloa', 'Colombo', 'Dehiwala-Mount Lavinia', 'Anuradhapura',\n",
       "       'Galle', 'Gampaha', 'Homagama', 'Jaffna', 'Kaduwela', 'Kalmunai',\n",
       "       'Kandy', 'Katunayake', 'Kelaniya', 'Madawachiya', 'Kotte',\n",
       "       'Moratuwa', 'Negombo', 'Nuwara Eliya', 'Panadura', 'Peliyagoda',\n",
       "       'Trincomalee', 'Wattala'], dtype=object)"
      ]
     },
     "execution_count": 18,
     "metadata": {},
     "output_type": "execute_result"
    }
   ],
   "source": [
    "unique_values = test_df['outlet_city'].unique()\n",
    "unique_values"
   ]
  },
  {
   "cell_type": "code",
   "execution_count": 19,
   "id": "89fc5391",
   "metadata": {
    "execution": {
     "iopub.execute_input": "2024-05-16T13:02:25.734627Z",
     "iopub.status.busy": "2024-05-16T13:02:25.733932Z",
     "iopub.status.idle": "2024-05-16T13:02:25.749984Z",
     "shell.execute_reply": "2024-05-16T13:02:25.748506Z"
    },
    "papermill": {
     "duration": 0.030413,
     "end_time": "2024-05-16T13:02:25.753166",
     "exception": false,
     "start_time": "2024-05-16T13:02:25.722753",
     "status": "completed"
    },
    "tags": []
   },
   "outputs": [
    {
     "data": {
      "text/html": [
       "<div>\n",
       "<style scoped>\n",
       "    .dataframe tbody tr th:only-of-type {\n",
       "        vertical-align: middle;\n",
       "    }\n",
       "\n",
       "    .dataframe tbody tr th {\n",
       "        vertical-align: top;\n",
       "    }\n",
       "\n",
       "    .dataframe thead th {\n",
       "        text-align: right;\n",
       "    }\n",
       "</style>\n",
       "<table border=\"1\" class=\"dataframe\">\n",
       "  <thead>\n",
       "    <tr style=\"text-align: right;\">\n",
       "      <th></th>\n",
       "      <th>Customer_ID</th>\n",
       "      <th>outlet_city</th>\n",
       "      <th>luxury_sales</th>\n",
       "      <th>fresh_sales</th>\n",
       "      <th>dry_sales</th>\n",
       "    </tr>\n",
       "  </thead>\n",
       "  <tbody>\n",
       "    <tr>\n",
       "      <th>0</th>\n",
       "      <td>33574</td>\n",
       "      <td>Batticaloa</td>\n",
       "      <td>2686.50</td>\n",
       "      <td>3582.00</td>\n",
       "      <td>12537.00</td>\n",
       "    </tr>\n",
       "    <tr>\n",
       "      <th>1</th>\n",
       "      <td>10089</td>\n",
       "      <td>Batticaloa</td>\n",
       "      <td>1717.56</td>\n",
       "      <td>2576.34</td>\n",
       "      <td>9446.58</td>\n",
       "    </tr>\n",
       "    <tr>\n",
       "      <th>2</th>\n",
       "      <td>38329</td>\n",
       "      <td>Batticaloa</td>\n",
       "      <td>854.04</td>\n",
       "      <td>1242.24</td>\n",
       "      <td>5201.88</td>\n",
       "    </tr>\n",
       "    <tr>\n",
       "      <th>3</th>\n",
       "      <td>11376</td>\n",
       "      <td>Batticaloa</td>\n",
       "      <td>1638.12</td>\n",
       "      <td>2320.67</td>\n",
       "      <td>9282.68</td>\n",
       "    </tr>\n",
       "    <tr>\n",
       "      <th>4</th>\n",
       "      <td>12410</td>\n",
       "      <td>Batticaloa</td>\n",
       "      <td>1039.09</td>\n",
       "      <td>1518.67</td>\n",
       "      <td>5435.24</td>\n",
       "    </tr>\n",
       "  </tbody>\n",
       "</table>\n",
       "</div>"
      ],
      "text/plain": [
       "   Customer_ID outlet_city  luxury_sales  fresh_sales  dry_sales\n",
       "0        33574  Batticaloa       2686.50      3582.00   12537.00\n",
       "1        10089  Batticaloa       1717.56      2576.34    9446.58\n",
       "2        38329  Batticaloa        854.04      1242.24    5201.88\n",
       "3        11376  Batticaloa       1638.12      2320.67    9282.68\n",
       "4        12410  Batticaloa       1039.09      1518.67    5435.24"
      ]
     },
     "execution_count": 19,
     "metadata": {},
     "output_type": "execute_result"
    }
   ],
   "source": [
    "test_df.head()"
   ]
  },
  {
   "cell_type": "code",
   "execution_count": null,
   "id": "be58e960",
   "metadata": {
    "papermill": {
     "duration": 0.011035,
     "end_time": "2024-05-16T13:02:25.774876",
     "exception": false,
     "start_time": "2024-05-16T13:02:25.763841",
     "status": "completed"
    },
    "tags": []
   },
   "outputs": [],
   "source": []
  }
 ],
 "metadata": {
  "kaggle": {
   "accelerator": "none",
   "dataSources": [
    {
     "databundleVersionId": 8564874,
     "sourceId": 78060,
     "sourceType": "competition"
    }
   ],
   "dockerImageVersionId": 30698,
   "isGpuEnabled": false,
   "isInternetEnabled": false,
   "language": "python",
   "sourceType": "notebook"
  },
  "kernelspec": {
   "display_name": "Python 3",
   "language": "python",
   "name": "python3"
  },
  "language_info": {
   "codemirror_mode": {
    "name": "ipython",
    "version": 3
   },
   "file_extension": ".py",
   "mimetype": "text/x-python",
   "name": "python",
   "nbconvert_exporter": "python",
   "pygments_lexer": "ipython3",
   "version": "3.10.13"
  },
  "papermill": {
   "default_parameters": {},
   "duration": 27.186241,
   "end_time": "2024-05-16T13:02:27.517348",
   "environment_variables": {},
   "exception": null,
   "input_path": "__notebook__.ipynb",
   "output_path": "__notebook__.ipynb",
   "parameters": {},
   "start_time": "2024-05-16T13:02:00.331107",
   "version": "2.5.0"
  }
 },
 "nbformat": 4,
 "nbformat_minor": 5
}
